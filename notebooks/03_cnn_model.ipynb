{
 "cells": [
  {
   "metadata": {},
   "cell_type": "markdown",
   "source": "## Importation des données",
   "id": "cf57e9aeb8e1e08a"
  },
  {
   "metadata": {
    "ExecuteTime": {
     "end_time": "2025-10-01T06:26:09.573994Z",
     "start_time": "2025-10-01T06:26:05.493275Z"
    }
   },
   "cell_type": "code",
   "source": [
    "import numpy as np\n",
    "import torch\n",
    "import torch.nn as nn\n",
    "import torch.optim as optim\n",
    "from torch.utils.data import TensorDataset, DataLoader\n",
    "import matplotlib.pyplot as plt\n",
    "from torch.optim.lr_scheduler import StepLR"
   ],
   "id": "4917dde068802f05",
   "outputs": [],
   "execution_count": 1
  },
  {
   "metadata": {},
   "cell_type": "markdown",
   "source": "## Chargement des données",
   "id": "97894b409655976c"
  },
  {
   "metadata": {
    "ExecuteTime": {
     "end_time": "2025-10-01T06:26:12.734324Z",
     "start_time": "2025-10-01T06:26:12.621866Z"
    }
   },
   "cell_type": "code",
   "source": [
    "X_train = np.load(\"../data/X_train_img.npy\")   # (N, 28, 28)\n",
    "X_val   = np.load(\"../data/X_val_img.npy\")\n",
    "y_train = np.load(\"../data/y_train.npy\")\n",
    "y_val   = np.load(\"../data/y_val.npy\")\n",
    "\n",
    "# Convertir en tenseurs PyTorch\n",
    "X_train_t = torch.tensor(X_train).unsqueeze(1).float()  # (N,1,28,28)\n",
    "X_val_t   = torch.tensor(X_val).unsqueeze(1).float()\n",
    "y_train_t = torch.tensor(y_train).long()\n",
    "y_val_t   = torch.tensor(y_val).long()\n",
    "\n",
    "train_ds = TensorDataset(X_train_t, y_train_t)\n",
    "val_ds   = TensorDataset(X_val_t, y_val_t)\n",
    "train_dl = DataLoader(train_ds, batch_size=128, shuffle=True)\n",
    "val_dl   = DataLoader(val_ds, batch_size=256)"
   ],
   "id": "e402ab62520ba2f2",
   "outputs": [],
   "execution_count": 2
  },
  {
   "metadata": {},
   "cell_type": "markdown",
   "source": "## Création du modèle CNN",
   "id": "a03f24b43bd43da"
  },
  {
   "metadata": {
    "ExecuteTime": {
     "end_time": "2025-10-01T06:26:16.225952Z",
     "start_time": "2025-10-01T06:26:16.202585Z"
    }
   },
   "cell_type": "code",
   "source": [
    "class CNN(nn.Module):\n",
    "    def __init__(self):\n",
    "        super().__init__()\n",
    "        self.features = nn.Sequential(\n",
    "            nn.Conv2d(1, 32, 3, padding=1), nn.ReLU(), nn.BatchNorm2d(32),\n",
    "            nn.Conv2d(32, 32, 3, padding=1), nn.ReLU(), nn.BatchNorm2d(32),\n",
    "            nn.MaxPool2d(2), nn.Dropout(0.5),\n",
    "\n",
    "            nn.Conv2d(32, 64, 3, padding=1), nn.ReLU(), nn.BatchNorm2d(64),\n",
    "            nn.Conv2d(64, 64, 3, padding=1), nn.ReLU(), nn.BatchNorm2d(64),\n",
    "            nn.MaxPool2d(2), nn.Dropout(0.5)\n",
    "        )\n",
    "        self.classifier = nn.Sequential(\n",
    "            nn.Flatten(),\n",
    "            nn.Linear(64*7*7, 256), nn.ReLU(), nn.BatchNorm1d(256), nn.Dropout(0.6),\n",
    "            nn.Linear(256, 10)\n",
    "        )\n",
    "    def forward(self, x):\n",
    "        return self.classifier(self.features(x))\n",
    "\n",
    "device = \"cuda\" if torch.cuda.is_available() else \"cpu\"\n",
    "model = CNN().to(device)"
   ],
   "id": "a71ad0f64c3bf83",
   "outputs": [],
   "execution_count": 3
  },
  {
   "metadata": {},
   "cell_type": "markdown",
   "source": "## Entrainement",
   "id": "6001f104ab393b5a"
  },
  {
   "metadata": {
    "ExecuteTime": {
     "end_time": "2025-10-01T07:26:19.002729Z",
     "start_time": "2025-10-01T06:26:36.457366Z"
    }
   },
   "cell_type": "code",
   "source": [
    "loss_fn = nn.CrossEntropyLoss()\n",
    "opt = optim.Adam(model.parameters(), lr=1e-3)\n",
    "\n",
    "# Scheduler : divise le lr par 2 tous les 10 epochs\n",
    "scheduler = StepLR(opt, step_size=5, gamma=0.7)\n",
    "\n",
    "train_losses, val_losses, val_accs = [], [], []\n",
    "\n",
    "for epoch in range(50):  # suffisant pour dépasser 99% acc\n",
    "    model.train()\n",
    "    total_loss = 0\n",
    "    for xb, yb in train_dl:\n",
    "        xb, yb = xb.to(device), yb.to(device)\n",
    "        opt.zero_grad()\n",
    "        pred = model(xb)\n",
    "        loss = loss_fn(pred, yb)\n",
    "        loss.backward()\n",
    "        opt.step()\n",
    "        total_loss += loss.item()\n",
    "    train_losses.append(total_loss/len(train_dl))\n",
    "\n",
    "    # Validation\n",
    "    model.eval()\n",
    "    val_loss, correct, total = 0,0,0\n",
    "    with torch.no_grad():\n",
    "        for xb, yb in val_dl:\n",
    "            xb, yb = xb.to(device), yb.to(device)\n",
    "            pred = model(xb)\n",
    "            val_loss += loss_fn(pred, yb).item()\n",
    "            correct += (pred.argmax(1) == yb).sum().item()\n",
    "            total += yb.size(0)\n",
    "    val_losses.append(val_loss/len(val_dl))\n",
    "    val_accs.append(correct/total)\n",
    "\n",
    "    # Scheduler step à la fin de l’epoch\n",
    "    scheduler.step()\n",
    "\n",
    "    # Affichage\n",
    "    print(f\"Epoch {epoch+1}: \"\n",
    "          f\"TrainLoss={train_losses[-1]:.4f}, \"\n",
    "          f\"ValLoss={val_losses[-1]:.4f}, \"\n",
    "          f\"ValAcc={val_accs[-1]*100:.2f}%, \"\n",
    "          f\"LR={scheduler.get_last_lr()[0]:.6f}\")\n"
   ],
   "id": "b3bed8f014c6580",
   "outputs": [
    {
     "name": "stdout",
     "output_type": "stream",
     "text": [
      "Epoch 1: TrainLoss=0.2455, ValLoss=0.0587, ValAcc=98.05%, LR=0.001000\n",
      "Epoch 2: TrainLoss=0.0870, ValLoss=0.0409, ValAcc=98.88%, LR=0.001000\n",
      "Epoch 3: TrainLoss=0.0700, ValLoss=0.0361, ValAcc=98.83%, LR=0.001000\n",
      "Epoch 4: TrainLoss=0.0570, ValLoss=0.0324, ValAcc=98.93%, LR=0.001000\n",
      "Epoch 5: TrainLoss=0.0511, ValLoss=0.0291, ValAcc=99.24%, LR=0.000700\n",
      "Epoch 6: TrainLoss=0.0423, ValLoss=0.0234, ValAcc=99.40%, LR=0.000700\n",
      "Epoch 7: TrainLoss=0.0394, ValLoss=0.0230, ValAcc=99.26%, LR=0.000700\n",
      "Epoch 8: TrainLoss=0.0370, ValLoss=0.0239, ValAcc=99.43%, LR=0.000700\n",
      "Epoch 9: TrainLoss=0.0355, ValLoss=0.0247, ValAcc=99.40%, LR=0.000700\n",
      "Epoch 10: TrainLoss=0.0348, ValLoss=0.0232, ValAcc=99.38%, LR=0.000490\n",
      "Epoch 11: TrainLoss=0.0289, ValLoss=0.0242, ValAcc=99.24%, LR=0.000490\n",
      "Epoch 12: TrainLoss=0.0274, ValLoss=0.0214, ValAcc=99.38%, LR=0.000490\n",
      "Epoch 13: TrainLoss=0.0253, ValLoss=0.0203, ValAcc=99.40%, LR=0.000490\n",
      "Epoch 14: TrainLoss=0.0244, ValLoss=0.0200, ValAcc=99.50%, LR=0.000490\n",
      "Epoch 15: TrainLoss=0.0223, ValLoss=0.0190, ValAcc=99.52%, LR=0.000343\n",
      "Epoch 16: TrainLoss=0.0219, ValLoss=0.0207, ValAcc=99.50%, LR=0.000343\n",
      "Epoch 17: TrainLoss=0.0187, ValLoss=0.0174, ValAcc=99.64%, LR=0.000343\n",
      "Epoch 18: TrainLoss=0.0191, ValLoss=0.0187, ValAcc=99.62%, LR=0.000343\n",
      "Epoch 19: TrainLoss=0.0174, ValLoss=0.0191, ValAcc=99.55%, LR=0.000343\n",
      "Epoch 20: TrainLoss=0.0183, ValLoss=0.0190, ValAcc=99.50%, LR=0.000240\n",
      "Epoch 21: TrainLoss=0.0156, ValLoss=0.0194, ValAcc=99.52%, LR=0.000240\n",
      "Epoch 22: TrainLoss=0.0152, ValLoss=0.0192, ValAcc=99.52%, LR=0.000240\n",
      "Epoch 23: TrainLoss=0.0151, ValLoss=0.0191, ValAcc=99.64%, LR=0.000240\n",
      "Epoch 24: TrainLoss=0.0133, ValLoss=0.0190, ValAcc=99.55%, LR=0.000240\n",
      "Epoch 25: TrainLoss=0.0142, ValLoss=0.0188, ValAcc=99.55%, LR=0.000168\n",
      "Epoch 26: TrainLoss=0.0126, ValLoss=0.0165, ValAcc=99.62%, LR=0.000168\n",
      "Epoch 27: TrainLoss=0.0125, ValLoss=0.0185, ValAcc=99.62%, LR=0.000168\n",
      "Epoch 28: TrainLoss=0.0113, ValLoss=0.0170, ValAcc=99.62%, LR=0.000168\n",
      "Epoch 29: TrainLoss=0.0114, ValLoss=0.0171, ValAcc=99.60%, LR=0.000168\n",
      "Epoch 30: TrainLoss=0.0112, ValLoss=0.0171, ValAcc=99.57%, LR=0.000118\n",
      "Epoch 31: TrainLoss=0.0109, ValLoss=0.0177, ValAcc=99.57%, LR=0.000118\n",
      "Epoch 32: TrainLoss=0.0111, ValLoss=0.0188, ValAcc=99.55%, LR=0.000118\n",
      "Epoch 33: TrainLoss=0.0100, ValLoss=0.0192, ValAcc=99.55%, LR=0.000118\n",
      "Epoch 34: TrainLoss=0.0096, ValLoss=0.0186, ValAcc=99.60%, LR=0.000118\n",
      "Epoch 35: TrainLoss=0.0091, ValLoss=0.0191, ValAcc=99.60%, LR=0.000082\n",
      "Epoch 36: TrainLoss=0.0086, ValLoss=0.0180, ValAcc=99.60%, LR=0.000082\n",
      "Epoch 37: TrainLoss=0.0091, ValLoss=0.0172, ValAcc=99.62%, LR=0.000082\n",
      "Epoch 38: TrainLoss=0.0087, ValLoss=0.0175, ValAcc=99.60%, LR=0.000082\n",
      "Epoch 39: TrainLoss=0.0083, ValLoss=0.0173, ValAcc=99.62%, LR=0.000082\n",
      "Epoch 40: TrainLoss=0.0070, ValLoss=0.0179, ValAcc=99.60%, LR=0.000058\n",
      "Epoch 41: TrainLoss=0.0088, ValLoss=0.0186, ValAcc=99.60%, LR=0.000058\n",
      "Epoch 42: TrainLoss=0.0083, ValLoss=0.0170, ValAcc=99.62%, LR=0.000058\n",
      "Epoch 43: TrainLoss=0.0075, ValLoss=0.0174, ValAcc=99.60%, LR=0.000058\n",
      "Epoch 44: TrainLoss=0.0079, ValLoss=0.0185, ValAcc=99.57%, LR=0.000058\n",
      "Epoch 45: TrainLoss=0.0075, ValLoss=0.0194, ValAcc=99.57%, LR=0.000040\n",
      "Epoch 46: TrainLoss=0.0069, ValLoss=0.0185, ValAcc=99.60%, LR=0.000040\n",
      "Epoch 47: TrainLoss=0.0065, ValLoss=0.0185, ValAcc=99.60%, LR=0.000040\n",
      "Epoch 48: TrainLoss=0.0075, ValLoss=0.0191, ValAcc=99.60%, LR=0.000040\n",
      "Epoch 49: TrainLoss=0.0067, ValLoss=0.0189, ValAcc=99.55%, LR=0.000040\n",
      "Epoch 50: TrainLoss=0.0068, ValLoss=0.0187, ValAcc=99.60%, LR=0.000028\n"
     ]
    }
   ],
   "execution_count": 4
  },
  {
   "metadata": {},
   "cell_type": "markdown",
   "source": "## Visualisation",
   "id": "708bfa8f4ce0c2c2"
  },
  {
   "metadata": {
    "ExecuteTime": {
     "end_time": "2025-10-01T07:31:43.635025Z",
     "start_time": "2025-10-01T07:31:42.721586Z"
    }
   },
   "cell_type": "code",
   "source": [
    "plt.plot(train_losses, label=\"Train\")\n",
    "plt.plot(val_losses, label=\"Val\")\n",
    "plt.title(\"Loss\")\n",
    "plt.legend()\n",
    "plt.show()"
   ],
   "id": "f9e8d82ed28b04e7",
   "outputs": [
    {
     "data": {
      "text/plain": [
       "<Figure size 640x480 with 1 Axes>"
      ],
      "image/png": "[encoded data removed]"
     },
     "metadata": {},
     "output_type": "display_data",
     "jetTransient": {
      "display_id": null
     }
    }
   ],
   "execution_count": 5
  },
  {
   "metadata": {
    "ExecuteTime": {
     "end_time": "2025-10-01T07:31:52.546505Z",
     "start_time": "2025-10-01T07:31:47.744165Z"
    }
   },
   "cell_type": "code",
   "source": [
    "from sklearn.metrics import confusion_matrix, ConfusionMatrixDisplay\n",
    "\n",
    "# Sur le jeu de validation\n",
    "all_preds, all_labels = [], []\n",
    "model.eval()\n",
    "with torch.no_grad():\n",
    "    for xb, yb in val_dl:\n",
    "        xb, yb = xb.to(device), yb.to(device)\n",
    "        pred = model(xb).argmax(1)\n",
    "        all_preds.extend(pred.cpu().numpy())\n",
    "        all_labels.extend(yb.cpu().numpy())\n",
    "\n",
    "cm = confusion_matrix(all_labels, all_preds)\n",
    "disp = ConfusionMatrixDisplay(confusion_matrix=cm)\n",
    "disp.plot(cmap='Blues', xticks_rotation=45)\n",
    "plt.show()\n"
   ],
   "id": "6c75bd8bc818dd5a",
   "outputs": [
    {
     "data": {
      "text/plain": [
       "<Figure size 640x480 with 2 Axes>"
      ],
      "image/png": "[encoded data removed]"
     },
     "metadata": {},
     "output_type": "display_data",
     "jetTransient": {
      "display_id": null
     }
    }
   ],
   "execution_count": 6
  },
  {
   "metadata": {
    "ExecuteTime": {
     "end_time": "2025-10-01T07:31:57.591140Z",
     "start_time": "2025-10-01T07:31:55.721748Z"
    }
   },
   "cell_type": "code",
   "source": [
    "import random\n",
    "\n",
    "# Récupération des prédictions sur le set de validation\n",
    "model.eval()\n",
    "all_preds, all_labels = [], []\n",
    "with torch.no_grad():\n",
    "    for xb, yb in val_dl:\n",
    "        xb, yb = xb.to(device), yb.to(device)\n",
    "        pred = model(xb).argmax(1)\n",
    "        all_preds.extend(pred.cpu().numpy())\n",
    "        all_labels.extend(yb.cpu().numpy())\n",
    "\n",
    "# Conversion en numpy\n",
    "all_preds = np.array(all_preds)\n",
    "all_labels = np.array(all_labels)\n",
    "\n",
    "# Trouver les indices des mauvaises prédictions\n",
    "wrong_idx = np.where(all_preds != all_labels)[0]\n",
    "\n",
    "print(f\"Nombre d'images mal classées : {len(wrong_idx)}\")\n",
    "\n",
    "# Afficher 5 erreurs aléatoires\n",
    "for i in range(5):\n",
    "    idx = random.choice(wrong_idx)\n",
    "    img = X_val[idx]  # shape (28,28)\n",
    "    plt.imshow(img, cmap=\"gray\")\n",
    "    plt.title(f\"Pred: {all_preds[idx]}, True: {all_labels[idx]}\")\n",
    "    plt.axis(\"off\")\n",
    "    plt.show()\n",
    "\n"
   ],
   "id": "6d900d2f571202cc",
   "outputs": [
    {
     "name": "stdout",
     "output_type": "stream",
     "text": [
      "Nombre d'images mal classées : 17\n"
     ]
    },
    {
     "data": {
      "text/plain": [
       "<Figure size 640x480 with 1 Axes>"
      ],
      "image/png": "[encoded data removed]"
     },
     "metadata": {},
     "output_type": "display_data",
     "jetTransient": {
      "display_id": null
     }
    },
    {
     "data": {
      "text/plain": [
       "<Figure size 640x480 with 1 Axes>"
      ],
      "image/png": "[encoded data removed]"
     },
     "metadata": {},
     "output_type": "display_data",
     "jetTransient": {
      "display_id": null
     }
    },
    {
     "data": {
      "text/plain": [
       "<Figure size 640x480 with 1 Axes>"
      ],
      "image/png": "[encoded data removed]"
     },
     "metadata": {},
     "output_type": "display_data",
     "jetTransient": {
      "display_id": null
     }
    },
    {
     "data": {
      "text/plain": [
       "<Figure size 640x480 with 1 Axes>"
      ],
      "image/png": "[encoded data removed]"
     },
     "metadata": {},
     "output_type": "display_data",
     "jetTransient": {
      "display_id": null
     }
    },
    {
     "data": {
      "text/plain": [
       "<Figure size 640x480 with 1 Axes>"
      ],
      "image/png": "[encoded data removed]"
     },
     "metadata": {},
     "output_type": "display_data",
     "jetTransient": {
      "display_id": null
     }
    }
   ],
   "execution_count": 7
  },
  {
   "metadata": {},
   "cell_type": "markdown",
   "source": "## Inférence pour Kaggle",
   "id": "72b6269bdcfeda4e"
  },
  {
   "metadata": {
    "ExecuteTime": {
     "end_time": "2025-10-01T07:32:29.292402Z",
     "start_time": "2025-10-01T07:32:17.429297Z"
    }
   },
   "cell_type": "code",
   "source": [
    "# Chargement du test\n",
    "X_test = np.load(\"../data/test_img.npy\")  # (N, 28, 28)\n",
    "\n",
    "# Conversion en tenseur PyTorch\n",
    "X_test_t = torch.tensor(X_test).unsqueeze(1).float()  # (N,1,28,28)\n",
    "test_dl = DataLoader(X_test_t, batch_size=256)\n",
    "\n",
    "# Prédictions\n",
    "model.eval()\n",
    "preds = []\n",
    "with torch.no_grad():\n",
    "    for xb in test_dl:\n",
    "        xb = xb.to(device)\n",
    "        out = model(xb)\n",
    "        preds.extend(out.argmax(1).cpu().numpy())\n",
    "\n",
    "import pandas as pd\n",
    "\n",
    "submission = pd.DataFrame({\n",
    "    \"ImageId\": np.arange(1, len(preds)+1),\n",
    "    \"Label\": preds\n",
    "})\n",
    "\n",
    "submission.to_csv(\"../results/submission_cnn_model.csv\", index=False)\n",
    "print(\"✅ Fichier submission.csv généré !\")\n"
   ],
   "id": "4bd860040a3e8163",
   "outputs": [
    {
     "name": "stdout",
     "output_type": "stream",
     "text": [
      "✅ Fichier submission.csv généré !\n"
     ]
    }
   ],
   "execution_count": 8
  },
  {
   "metadata": {},
   "cell_type": "code",
   "outputs": [],
   "execution_count": null,
   "source": "",
   "id": "2c54544d3913b595"
  }
 ],
 "metadata": {
  "kernelspec": {
   "display_name": "Python 3",
   "language": "python",
   "name": "python3"
  },
  "language_info": {
   "codemirror_mode": {
    "name": "ipython",
    "version": 2
   },
   "file_extension": ".py",
   "mimetype": "text/x-python",
   "name": "python",
   "nbconvert_exporter": "python",
   "pygments_lexer": "ipython2",
   "version": "2.7.6"
  }
 },
 "nbformat": 4,
 "nbformat_minor": 5
}
